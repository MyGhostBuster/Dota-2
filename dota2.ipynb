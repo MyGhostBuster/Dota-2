{
 "cells": [
  {
   "cell_type": "code",
   "execution_count": 1,
   "metadata": {
    "collapsed": false
   },
   "outputs": [],
   "source": [
    "import numpy as np\n",
    "import pandas as pd\n",
    "import sklearn\n",
    "import datetime\n",
    "import re\n",
    "\n",
    "from pandas import DataFrame, Series\n",
    "from sklearn.cross_validation import KFold\n",
    "from sklearn.metrics import roc_auc_score\n",
    "from sklearn.ensemble import GradientBoostingClassifier\n",
    "from sklearn.linear_model import LogisticRegression\n",
    "from sklearn.preprocessing import StandardScaler"
   ]
  },
  {
   "cell_type": "code",
   "execution_count": 2,
   "metadata": {
    "collapsed": false
   },
   "outputs": [],
   "source": [
    "data = pd.read_csv('features.csv')"
   ]
  },
  {
   "cell_type": "code",
   "execution_count": 3,
   "metadata": {
    "collapsed": false
   },
   "outputs": [
    {
     "name": "stdout",
     "output_type": "stream",
     "text": [
      "first_blood_time : 19553\n",
      "first_blood_team : 19553\n",
      "first_blood_player1 : 19553\n",
      "first_blood_player2 : 43987\n",
      "radiant_bottle_time : 15691\n",
      "radiant_courier_time : 692\n",
      "radiant_flying_courier_time : 27479\n",
      "radiant_first_ward_time : 1836\n",
      "dire_bottle_time : 16143\n",
      "dire_courier_time : 676\n",
      "dire_flying_courier_time : 26098\n",
      "dire_first_ward_time : 1826\n"
     ]
    }
   ],
   "source": [
    "#Считаем пропуски\n",
    "for col in data.columns:\n",
    "    na_count = data[col].size-data[col].count()\n",
    "    if(na_count!=0):\n",
    "        print('{0} : {1}'.format(col, na_count))"
   ]
  },
  {
   "cell_type": "markdown",
   "metadata": {},
   "source": [
    "first_blood_* - первое убийство произошло позже 5 минут\n",
    "radiant_courier_time - курьера купили позже 5 минут\n",
    "В целом все события не произошли, или произошли после 5 минут игры"
   ]
  },
  {
   "cell_type": "code",
   "execution_count": 4,
   "metadata": {
    "collapsed": false
   },
   "outputs": [],
   "source": [
    "#удаляем итоги матча\n",
    "def dropPredicted(frame):\n",
    "   return frame.drop(['radiant_win','duration','tower_status_radiant','tower_status_dire','barracks_status_radiant','barracks_status_dire'], 1)\n",
    "\n",
    "#удаляем категориальные признаки\n",
    "def dropCategories(frame):\n",
    "    categories = list(frame.filter(regex=\"r._hero\",axis=1).columns)\n",
    "    categories.extend(frame.filter(regex=\"d._hero\",axis=1).columns)\n",
    "    categories.extend(['first_blood_player1','first_blood_player2','lobby_type','start_time','match_id'])\n",
    "    return frame.drop(categories,1)\n",
    "\n",
    "#Масштабирует данные\n",
    "def scaleData(frame):\n",
    "    scaler = StandardScaler()\n",
    "    return DataFrame(scaler.fit_transform(frame))"
   ]
  },
  {
   "cell_type": "code",
   "execution_count": 5,
   "metadata": {
    "collapsed": false
   },
   "outputs": [],
   "source": [
    "data = data.fillna(0)\n",
    "\n",
    "X = dropPredicted(data)\n",
    "y = data['radiant_win']"
   ]
  },
  {
   "cell_type": "code",
   "execution_count": 6,
   "metadata": {
    "collapsed": false
   },
   "outputs": [],
   "source": [
    "def trainAndGetScore(clf, folds):\n",
    "    summary = 0\n",
    "    \n",
    "    start_time = datetime.datetime.now()\n",
    "    kf = KFold(len(data), n_folds=folds, shuffle=True)\n",
    "    \n",
    "    for train_index, test_index in kf:\n",
    "        clf.fit(X.iloc[train_index], y.iloc[train_index])\n",
    "        score = roc_auc_score(y.iloc[test_index], clf.predict_proba(X.iloc[test_index])[:,1])\n",
    "        summary += score\n",
    "        print(score)\n",
    "    \n",
    "    print('\\r\\nAvr score: {0}\\r\\nTime elapsed: {1}'.format(summary/folds, datetime.datetime.now() - start_time))"
   ]
  },
  {
   "cell_type": "code",
   "execution_count": 7,
   "metadata": {
    "collapsed": false
   },
   "outputs": [
    {
     "name": "stdout",
     "output_type": "stream",
     "text": [
      "0.664601927078\n",
      "0.664968482204\n",
      "0.663944197316\n",
      "0.663266654288\n",
      "0.667141342953\n",
      "\n",
      "Avr score: 0.664784520768\n",
      "Time elapsed: 0:00:37.893669\n"
     ]
    }
   ],
   "source": [
    "clf = GradientBoostingClassifier(n_estimators=10)\n",
    "trainAndGetScore(clf,5)"
   ]
  },
  {
   "cell_type": "code",
   "execution_count": 8,
   "metadata": {
    "collapsed": false
   },
   "outputs": [
    {
     "name": "stdout",
     "output_type": "stream",
     "text": [
      "0.681693146706\n",
      "0.676977600096\n",
      "0.685618849696\n",
      "0.68582125039\n",
      "0.678089221491\n",
      "\n",
      "Avr score: 0.681640013676\n",
      "Time elapsed: 0:01:21.334655\n"
     ]
    }
   ],
   "source": [
    "clf = GradientBoostingClassifier(n_estimators=20)\n",
    "trainAndGetScore(clf,5)"
   ]
  },
  {
   "cell_type": "code",
   "execution_count": 9,
   "metadata": {
    "collapsed": false
   },
   "outputs": [
    {
     "name": "stdout",
     "output_type": "stream",
     "text": [
      "0.692032006646\n",
      "0.686187165505\n",
      "0.689778979586\n",
      "0.68674771604\n",
      "0.692981910859\n",
      "\n",
      "Avr score: 0.689545555727\n",
      "Time elapsed: 0:01:51.558093\n"
     ]
    }
   ],
   "source": [
    "clf = GradientBoostingClassifier(n_estimators=30)\n",
    "trainAndGetScore(clf,5)"
   ]
  },
  {
   "cell_type": "code",
   "execution_count": 10,
   "metadata": {
    "collapsed": false
   },
   "outputs": [
    {
     "name": "stdout",
     "output_type": "stream",
     "text": [
      "0.677862361304\n",
      "0.679055494993\n",
      "0.680409419271\n",
      "0.680619624916\n",
      "0.691516009825\n",
      "\n",
      "Avr score: 0.681892582062\n",
      "Time elapsed: 0:00:52.632833\n"
     ]
    }
   ],
   "source": [
    "X = dropCategories(dropPredicted(data))\n",
    "clf = GradientBoostingClassifier(n_estimators=30, max_depth=2)\n",
    "trainAndGetScore(clf,5)"
   ]
  },
  {
   "cell_type": "markdown",
   "metadata": {},
   "source": [
    "# Логистическая регрессия"
   ]
  },
  {
   "cell_type": "code",
   "execution_count": null,
   "metadata": {
    "collapsed": false
   },
   "outputs": [
    {
     "name": "stdout",
     "output_type": "stream",
     "text": [
      "0.519705373646\n",
      "0.512417339814\n",
      "0.514799590751\n",
      "0.512214929992\n",
      "0.508207559684\n",
      "\n",
      "Avr score: 0.513468958777\n",
      "Time elapsed: 0:00:03.307769\n"
     ]
    }
   ],
   "source": [
    "X = dropPredicted(data)\n",
    "clf = LogisticRegression()\n",
    "trainAndGetScore(clf,5)"
   ]
  },
  {
   "cell_type": "code",
   "execution_count": null,
   "metadata": {
    "collapsed": false
   },
   "outputs": [],
   "source": [
    "X = dropCategories(dropPredicted(data))\n",
    "trainAndGetScore(clf,5)"
   ]
  },
  {
   "cell_type": "code",
   "execution_count": null,
   "metadata": {
    "collapsed": false
   },
   "outputs": [],
   "source": [
    "#Категориальные признаки\n",
    "X_pick = np.zeros((data.shape[0], 112))\n",
    "\n",
    "for i, match_id in enumerate(data.index):\n",
    "    for p in range(5):\n",
    "        X_pick[i, data.ix[match_id, 'r%d_hero' % (p+1)]-1] = 1\n",
    "        X_pick[i, data.ix[match_id, 'd%d_hero' % (p+1)]-1] = -1\n",
    "\n",
    "X = pd.concat([X, DataFrame(X_pick)], axis=1)"
   ]
  },
  {
   "cell_type": "code",
   "execution_count": null,
   "metadata": {
    "collapsed": false
   },
   "outputs": [],
   "source": [
    "trainAndGetScore(clf,5)"
   ]
  },
  {
   "cell_type": "markdown",
   "metadata": {},
   "source": [
    "# Конечная модель"
   ]
  },
  {
   "cell_type": "code",
   "execution_count": null,
   "metadata": {
    "collapsed": true
   },
   "outputs": [],
   "source": [
    "#Выводим дополнительные фичи\n",
    "\n",
    "#Среднее значение характеристик для каждого героя\n",
    "stat = ['gold','xp','lh','level','kills','deaths']\n",
    "heroPref = ['d1', 'd2', 'd3', 'd4', 'd5','r1', 'r2', 'r3', 'r4', 'r5']\n",
    "\n",
    "#расчитываем статистику по героям\n",
    "def getHeroStat(i,stat):\n",
    "    heroStat = list()\n",
    "    for prefix in heroPref:\n",
    "        heroStat.extend(data[data['{}_hero'.format(prefix)]==i]['{0}_{1}'.format(prefix, stat)])\n",
    "    return heroStat\n",
    "\n",
    "for heroId in range(1,113):\n",
    "    for s in stat:\n",
    "        herosStats[s] = [np.average(getHeroStat(heroId, stat=s)) for heroId in range(112)]\n",
    "        \n",
    "herosStats = DataFrame(herosStats, columns=stat)"
   ]
  },
  {
   "cell_type": "code",
   "execution_count": null,
   "metadata": {
    "collapsed": true
   },
   "outputs": [],
   "source": [
    "#Отклонение характеристики персонажа от среднего\n",
    "heroColumns = ['d1_', 'd2_', 'd3_', 'd4_', 'd5_','r1_', 'r2_', 'r3_', 'r4_', 'r5_']\n",
    "\n",
    "gold_avr = np.zeros((len(data), 10))\n",
    "xp_avr = np.zeros((len(data), 10))\n",
    "\n",
    "for index, row in data.iterrows():\n",
    "    for i in range(10):\n",
    "        xp_avr[index,i]=row[heroColumns[i]+'xp']-herosStats['xp'][int(row[heroColumns[i]+'hero'])]\n",
    "        gold_avr[index,i]=row[heroColumns[i]+'gold']-herosStats['gold'][int(row[heroColumns[i]+'hero'])]\n",
    "\n",
    "feature_hero_stat = pd.concat([DataFrame(xp_avr), DataFrame(gold_avr)], axis=1)"
   ]
  },
  {
   "cell_type": "code",
   "execution_count": null,
   "metadata": {
    "collapsed": true
   },
   "outputs": [],
   "source": [
    "#Категориальные признаки\n",
    "#Мешок слов для героя комбинируем с \"качеством\" этого героя\n",
    "#Коэффициенты для качества героя выведены с помощью feature_importances_  у градиентного бустига, при классификации только по характеристикам героя\n",
    "\n",
    "X_pick = np.zeros((data.shape[0], 112))\n",
    "X_lobbies = np.zeros((data.shape[0], 10))\n",
    "\n",
    "teamS = ['r','d']\n",
    "heroColumns = ['d1', 'd2', 'd3', 'd4', 'd5','r1', 'r2', 'r3', 'r4', 'r5']\n",
    "heroFeatureS = ['level','gold','xp','lh','kills','deaths']\n",
    "\n",
    "for i, match_id in enumerate(data.index):\n",
    "    X_lobbies[i, data.ix[match_id, 'lobby_type']] = 1\n",
    "\n",
    "    for p in range(10):\n",
    "            team = 1 if p>4 else -1\n",
    "            heroPref = heroColumns[p]\n",
    "            heroId = data.ix[match_id, '{}_hero'.format(heroPref)].astype(int)\n",
    "            gold =  data.ix[match_id, '{}_gold'.format(heroPref)] / 1106\n",
    "            xp = data.ix[match_id, '{}_xp'.format(heroPref)] / 1190.5\n",
    "            lh = data.ix[match_id, '{}_lh'.format(heroPref)] / 10.4\n",
    "            items = data.ix[match_id, '{}_items'.format(heroPref)] / 8.3\n",
    "            \n",
    "            X_pick[i, heroId-1] = (xp*0.4 + gold*0.355 + lh*0.1 + items*0.072 + 0.072) * team\n",
    "            \n",
    "\n",
    "feature_category =  pd.concat([DataFrame(X_pick), DataFrame(X_lobbies)], axis=1)"
   ]
  },
  {
   "cell_type": "code",
   "execution_count": null,
   "metadata": {
    "collapsed": true
   },
   "outputs": [],
   "source": [
    "y = data['radiant_win']\n",
    "\n",
    "#Сбор всех фич в одну и обучение модели\n",
    "X = pd.concat([scaleData(dropCategories(dropPredicted(data))), scaleData(feature_hero_stat), feature_category], axis=1)\n",
    "\n",
    "trainAndGetScore(clf,5) # avr 0.754\n",
    "clf.fit(X,y) # учимся на всей выборке"
   ]
  },
  {
   "cell_type": "markdown",
   "metadata": {},
   "source": [
    "# Оценка тестовых данных"
   ]
  },
  {
   "cell_type": "code",
   "execution_count": null,
   "metadata": {
    "collapsed": true
   },
   "outputs": [],
   "source": [
    "data = pd.read_csv('features_test.csv')\n",
    "data = data.fillna(0)\n",
    "\n",
    "X_pick = np.zeros((data.shape[0], 112))\n",
    "X_lobbies = np.zeros((data.shape[0], 10))\n",
    "\n",
    "teamS = ['r','d']\n",
    "heroColumns = ['d1', 'd2', 'd3', 'd4', 'd5','r1', 'r2', 'r3', 'r4', 'r5']\n",
    "heroFeatureS = ['level','gold','xp','lh','kills','deaths']\n",
    "\n",
    "for i, match_id in enumerate(data.index):\n",
    "    X_lobbies[i, data.ix[match_id, 'lobby_type']] = 1\n",
    "\n",
    "    for p in range(10):\n",
    "            team = 1 if p>4 else -1\n",
    "            heroPref = heroColumns[p]\n",
    "            heroId = data.ix[match_id, '{}_hero'.format(heroPref)].astype(int)\n",
    "            gold =  data.ix[match_id, '{}_gold'.format(heroPref)] / 1106\n",
    "            xp = data.ix[match_id, '{}_xp'.format(heroPref)] / 1190.5\n",
    "            lh = data.ix[match_id, '{}_lh'.format(heroPref)] / 10.4\n",
    "            items = data.ix[match_id, '{}_items'.format(heroPref)] / 8.3\n",
    "            \n",
    "            X_pick[i, heroId-1] = (xp*0.4 + gold*0.355 + lh*0.1 + items*0.072 + 0.072) * team\n",
    "            \n",
    "\n",
    "feature_category =  pd.concat([DataFrame(X_pick), DataFrame(X_lobbies)], axis=1)\n",
    "\n",
    "#Отклонение характеристики персонажа от среднего\n",
    "heroColumns = ['d1_', 'd2_', 'd3_', 'd4_', 'd5_','r1_', 'r2_', 'r3_', 'r4_', 'r5_']\n",
    "\n",
    "gold_avr = np.zeros((len(data), 10))\n",
    "xp_avr = np.zeros((len(data), 10))\n",
    "\n",
    "for index, row in data.iterrows():\n",
    "    for i in range(10):\n",
    "        xp_avr[index,i]=row[heroColumns[i]+'xp']-herosStats['xp'][int(row[heroColumns[i]+'hero'])]\n",
    "        gold_avr[index,i]=row[heroColumns[i]+'gold']-herosStats['gold'][int(row[heroColumns[i]+'hero'])]\n",
    "\n",
    "feature_hero_stat = pd.concat([DataFrame(xp_avr), DataFrame(gold_avr)], axis=1)\n",
    "\n",
    "X = pd.concat([scaleData(dropCategories(data)), scaleData(feature_hero_stat), feature_category], axis=1)\n",
    "\n",
    "proba = clf.predict_proba(X)[:,1]\n",
    "print(proba.max())\n",
    "print(proba.min())"
   ]
  },
  {
   "cell_type": "code",
   "execution_count": null,
   "metadata": {
    "collapsed": true
   },
   "outputs": [],
   "source": []
  }
 ],
 "metadata": {
  "kernelspec": {
   "display_name": "Python 2",
   "language": "python",
   "name": "python2"
  },
  "language_info": {
   "codemirror_mode": {
    "name": "ipython",
    "version": 2
   },
   "file_extension": ".py",
   "mimetype": "text/x-python",
   "name": "python",
   "nbconvert_exporter": "python",
   "pygments_lexer": "ipython2",
   "version": "2.7.11"
  }
 },
 "nbformat": 4,
 "nbformat_minor": 0
}
